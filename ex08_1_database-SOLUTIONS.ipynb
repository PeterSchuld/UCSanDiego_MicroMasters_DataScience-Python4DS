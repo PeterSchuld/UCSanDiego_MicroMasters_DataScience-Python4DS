{
 "cells": [
  {
   "cell_type": "markdown",
   "metadata": {},
   "source": [
    "# Exercise Notebook on Interacting with Databases: Solutions"
   ]
  },
  {
   "cell_type": "code",
   "execution_count": 1,
   "metadata": {
    "collapsed": true,
    "nbgrader": {
     "grade": false,
     "grade_id": "import",
     "locked": true,
     "schema_version": 1,
     "solution": false
    }
   },
   "outputs": [],
   "source": [
    "import pandas as pd\n",
    "import numpy as np\n",
    "import os.path"
   ]
  },
  {
   "cell_type": "markdown",
   "metadata": {},
   "source": [
    "In this exercise notebook we will work with a SQLite database. First, let's create a new database from the *movielens* dataset. The ratings data are very large, ingesting those into SQLite is quite slow. Let's only take the first 100 thousand records."
   ]
  },
  {
   "cell_type": "code",
   "execution_count": 2,
   "metadata": {
    "collapsed": false
   },
   "outputs": [],
   "source": [
    "# DO NOT MODIFY\n",
    "\n",
    "# set here the relative path to the movielens folder\n",
    "MOVIELENS=\"../../../movielens\"\n",
    "\n",
    "movies = pd.read_csv(os.path.join(MOVIELENS, 'movies.csv'), sep=',')\n",
    "ratings = pd.read_csv(os.path.join(MOVIELENS, 'ratings.csv'), sep=',')"
   ]
  },
  {
   "cell_type": "code",
   "execution_count": 3,
   "metadata": {
    "collapsed": false
   },
   "outputs": [],
   "source": [
    "# DO NOT MODIFY\n",
    "\n",
    "ratings = ratings.iloc[:100000]"
   ]
  },
  {
   "cell_type": "markdown",
   "metadata": {},
   "source": [
    "We first create on disk the SQLite databse `movielens.db` and then we use the `to_sql` method of DataFrames to store the data there, we specify that is the table exists already, it should be replaced."
   ]
  },
  {
   "cell_type": "code",
   "execution_count": 4,
   "metadata": {
    "collapsed": true
   },
   "outputs": [],
   "source": [
    "# DO NOT MODIFY\n",
    "\n",
    "import sqlite3\n",
    "conn = sqlite3.connect(\"movielens.db\")"
   ]
  },
  {
   "cell_type": "code",
   "execution_count": 5,
   "metadata": {
    "collapsed": false
   },
   "outputs": [
    {
     "name": "stdout",
     "output_type": "stream",
     "text": [
      "Size of the database is 0 MB\n"
     ]
    }
   ],
   "source": [
    "print(\"Size of the database is {:.2g} MB\".format(os.path.getsize(\"movielens.db\")/1024**2))"
   ]
  },
  {
   "cell_type": "code",
   "execution_count": 6,
   "metadata": {
    "collapsed": false
   },
   "outputs": [],
   "source": [
    "# DO NOT MODIFY\n",
    "\n",
    "movies.to_sql(\"movies\", conn, if_exists=\"replace\")"
   ]
  },
  {
   "cell_type": "code",
   "execution_count": 7,
   "metadata": {
    "collapsed": false
   },
   "outputs": [],
   "source": [
    "# DO NOT MODIFY\n",
    "\n",
    "ratings.to_sql(\"ratings\", conn, if_exists=\"replace\")"
   ]
  },
  {
   "cell_type": "code",
   "execution_count": 8,
   "metadata": {
    "collapsed": false
   },
   "outputs": [
    {
     "name": "stdout",
     "output_type": "stream",
     "text": [
      "Size of the database is 5.5 MB\n"
     ]
    }
   ],
   "source": [
    "print(\"Size of the database is {:.2g} MB\".format(os.path.getsize(\"movielens.db\")/1024**2))"
   ]
  },
  {
   "cell_type": "markdown",
   "metadata": {},
   "source": [
    "## Exercise 1: get the names of all the tables in the database \n",
    "\n",
    "First let's find out the name of the tables available inside the database"
   ]
  },
  {
   "cell_type": "code",
   "execution_count": 9,
   "metadata": {
    "collapsed": false
   },
   "outputs": [],
   "source": [
    "cursor = conn.cursor()"
   ]
  },
  {
   "cell_type": "code",
   "execution_count": 10,
   "metadata": {
    "collapsed": false,
    "nbgrader": {
     "grade": false,
     "grade_id": "get_list_of_tables",
     "locked": false,
     "schema_version": 1,
     "solution": true
    }
   },
   "outputs": [],
   "source": [
    "def get_list_of_tables(sqlite_cursor):\n",
    "    \"\"\"Return a list of table names in a sqlite database\n",
    "    \n",
    "    Parameters\n",
    "    ----------\n",
    "    sqlite_cursor : sqlite3.Cursor\n",
    "    SQLite database cursor\n",
    "    \n",
    "    Returns\n",
    "    -------\n",
    "    tables : list of strings\n",
    "    list of table names\"\"\"\n",
    "### BEGIN SOLUTION\n",
    "    tables = []\n",
    "    for row in sqlite_cursor.execute(\"SELECT name FROM sqlite_master\"):\n",
    "        tables.append(row[0])\n",
    "    return tables\n",
    "### END SOLUTION"
   ]
  },
  {
   "cell_type": "code",
   "execution_count": 11,
   "metadata": {
    "collapsed": false
   },
   "outputs": [
    {
     "data": {
      "text/plain": [
       "['movies', 'ix_movies_index', 'ratings', 'ix_ratings_index']"
      ]
     },
     "execution_count": 11,
     "metadata": {},
     "output_type": "execute_result"
    }
   ],
   "source": [
    "movielens_db_tables = get_list_of_tables(cursor)\n",
    "movielens_db_tables"
   ]
  },
  {
   "cell_type": "code",
   "execution_count": 12,
   "metadata": {
    "collapsed": false
   },
   "outputs": [],
   "source": [
    "# DO NOT MODIFY\n",
    "\n",
    "assert isinstance(movielens_db_tables[0], str), \"Make sure that the function does not return a list of tuples but just a list of strings\"\n",
    "assert \"movies\" in movielens_db_tables, \"It looks like the movies table is missing\"\n",
    "assert \"ratings\" in movielens_db_tables, \"It looks like the ratings table is missing\""
   ]
  },
  {
   "cell_type": "markdown",
   "metadata": {},
   "source": [
    "## Exercise 2: Print a few ratings records\n",
    "\n",
    "Let's use the `sqlite3` package to extract the first 3 ratings from the ratings table."
   ]
  },
  {
   "cell_type": "code",
   "execution_count": 13,
   "metadata": {
    "collapsed": true,
    "nbgrader": {
     "grade": false,
     "grade_id": "first_3_ratings",
     "locked": false,
     "schema_version": 1,
     "solution": true
    }
   },
   "outputs": [],
   "source": [
    "first_3_ratings = None\n",
    "### BEGIN SOLUTION\n",
    "first_3_ratings = cursor.execute(\"SELECT * FROM ratings LIMIT 3\").fetchall()\n",
    "### END SOLUTION"
   ]
  },
  {
   "cell_type": "code",
   "execution_count": 14,
   "metadata": {
    "collapsed": false
   },
   "outputs": [
    {
     "data": {
      "text/plain": [
       "[(0, 1, 2, 3.5, 1112486027),\n",
       " (1, 1, 29, 3.5, 1112484676),\n",
       " (2, 1, 32, 3.5, 1112484819)]"
      ]
     },
     "execution_count": 14,
     "metadata": {},
     "output_type": "execute_result"
    }
   ],
   "source": [
    "first_3_ratings"
   ]
  },
  {
   "cell_type": "code",
   "execution_count": 15,
   "metadata": {
    "collapsed": false
   },
   "outputs": [],
   "source": [
    "assert len(first_3_ratings) == 3, \"Make sure you are selecting only 3 rows\"\n",
    "assert len(first_3_ratings[0]) == 5, \"Something went wrong, each row of ratings should have 5 columns\""
   ]
  },
  {
   "cell_type": "markdown",
   "metadata": {},
   "source": [
    "Explore more the first_3_ratings data structure, what kind of Python object is it? Find out with `type()`.\n",
    "What kind of Python object is each element of it?"
   ]
  },
  {
   "cell_type": "markdown",
   "metadata": {},
   "source": [
    "## Exercise 3: Load the ratings table in Pandas\n",
    "\n",
    "Let's load the entire ratings table into a dataframe"
   ]
  },
  {
   "cell_type": "code",
   "execution_count": 16,
   "metadata": {
    "collapsed": false,
    "nbgrader": {
     "grade": false,
     "grade_id": "ratings_dataframe",
     "locked": false,
     "schema_version": 1,
     "solution": true
    }
   },
   "outputs": [],
   "source": [
    "ratings_dataframe = None\n",
    "### BEGIN SOLUTION\n",
    "ratings_dataframe = pd.read_sql_query(\"SELECT * FROM ratings\", conn)\n",
    "### END SOLUTION"
   ]
  },
  {
   "cell_type": "code",
   "execution_count": 17,
   "metadata": {
    "collapsed": false
   },
   "outputs": [],
   "source": [
    "assert len(ratings_dataframe) == 100000, \"Check your code, you should have 100000 rows\""
   ]
  },
  {
   "cell_type": "markdown",
   "metadata": {},
   "source": [
    "## Exercise 4: Load a subset of the movies table in Pandas\n",
    "\n",
    "We would like now to only load the movies of the Fantasy genre into a Pandas dataframe, not the complete movies table. This is very useful for large datasets because we can save a lot of memory if you avoid doing the filtering in pandas but let the database take care of it.\n",
    "\n",
    "Let's first introduce the SQL syntax for checking if a records contains a string, for example let's print the first 3 Children movies:"
   ]
  },
  {
   "cell_type": "code",
   "execution_count": 18,
   "metadata": {
    "collapsed": false
   },
   "outputs": [
    {
     "data": {
      "text/plain": [
       "[(0, 1, 'Toy Story (1995)', 'Adventure|Animation|Children|Comedy|Fantasy'),\n",
       " (1, 2, 'Jumanji (1995)', 'Adventure|Children|Fantasy'),\n",
       " (7, 8, 'Tom and Huck (1995)', 'Adventure|Children')]"
      ]
     },
     "execution_count": 18,
     "metadata": {},
     "output_type": "execute_result"
    }
   ],
   "source": [
    "cursor.execute(\"SELECT * FROM movies WHERE genres LIKE '%Children%' LIMIT 3\").fetchall()"
   ]
  },
  {
   "cell_type": "code",
   "execution_count": 19,
   "metadata": {
    "collapsed": false,
    "nbgrader": {
     "grade": false,
     "grade_id": "fantasy_movies_dataframe",
     "locked": false,
     "schema_version": 1,
     "solution": true
    }
   },
   "outputs": [],
   "source": [
    "fantasy_movies_dataframe = None\n",
    "### BEGIN SOLUTION\n",
    "fantasy_movies_dataframe = pd.read_sql_query(\"SELECT * FROM movies WHERE genres LIKE '%Fantasy%'\", conn)\n",
    "### END SOLUTION"
   ]
  },
  {
   "cell_type": "code",
   "execution_count": 20,
   "metadata": {
    "collapsed": false
   },
   "outputs": [],
   "source": [
    "# DO NOT MODIFY\n",
    "\n",
    "assert len(fantasy_movies_dataframe) == 1412, \"Make sure you do not have LIMIT in the SQL query\"\n",
    "assert fantasy_movies_dataframe.genres.str.contains(\"Fantasy\").all(), \"All rows should contain the Fantasy string, try to identify which rows are not\""
   ]
  },
  {
   "cell_type": "markdown",
   "metadata": {},
   "source": [
    "In the previous cell, we are using the `.all()` DataFrame method, what is it doing? look for its documentation and play with it!"
   ]
  }
 ],
 "metadata": {
  "anaconda-cloud": {},
  "celltoolbar": "Create Assignment",
  "kernelspec": {
   "display_name": "Python 3",
   "language": "python",
   "name": "python3"
  },
  "language_info": {
   "codemirror_mode": {
    "name": "ipython",
    "version": 3
   },
   "file_extension": ".py",
   "mimetype": "text/x-python",
   "name": "python",
   "nbconvert_exporter": "python",
   "pygments_lexer": "ipython3",
   "version": "3.6.0"
  }
 },
 "nbformat": 4,
 "nbformat_minor": 1
}
